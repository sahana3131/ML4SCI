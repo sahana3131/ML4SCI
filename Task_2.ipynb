{
  "cells": [
    {
      "cell_type": "markdown",
      "metadata": {
        "id": "view-in-github",
        "colab_type": "text"
      },
      "source": [
        "<a href=\"https://colab.research.google.com/github/sahana3131/ML4SCI-QMLHEP03/blob/main/Task_2.ipynb\" target=\"_parent\"><img src=\"https://colab.research.google.com/assets/colab-badge.svg\" alt=\"Open In Colab\"/></a>"
      ]
    },
    {
      "cell_type": "markdown",
      "metadata": {
        "id": "5iMAr1Purxhd"
      },
      "source": [
        "Implement a Message Passing Neural Network (MPNN) with a framework of your choice (PyTorch Geometric, Deep Graph Library, GraphNets) to classify jets as being quarks or gluons. "
      ]
    },
    {
      "cell_type": "markdown",
      "metadata": {
        "id": "KrzSbk7drxhj"
      },
      "source": [
        "## Data Preparation"
      ]
    },
    {
      "cell_type": "code",
      "execution_count": 1,
      "metadata": {
        "id": "Ek0klOxyrxhk"
      },
      "outputs": [],
      "source": [
        "!wget -qq \"https://zenodo.org/record/3164691/files/QG_jets.npz\""
      ]
    },
    {
      "cell_type": "code",
      "execution_count": 2,
      "metadata": {
        "id": "6eIhZAOprxhm"
      },
      "outputs": [],
      "source": [
        "import numpy as np\n",
        "import pandas as pd"
      ]
    },
    {
      "cell_type": "code",
      "execution_count": 3,
      "metadata": {
        "id": "hFmAuxJbrxhn"
      },
      "outputs": [],
      "source": [
        "#Load Dataset\n",
        "temp = np.load('QG_jets.npz')"
      ]
    },
    {
      "cell_type": "code",
      "execution_count": 4,
      "metadata": {
        "colab": {
          "base_uri": "https://localhost:8080/"
        },
        "id": "Stdd0AIRrxhn",
        "outputId": "b850d3f1-a6eb-4450-8dd9-830931f1c30d"
      },
      "outputs": [
        {
          "output_type": "stream",
          "name": "stdout",
          "text": [
            "['X', 'y']\n"
          ]
        }
      ],
      "source": [
        "print(temp.files)"
      ]
    },
    {
      "cell_type": "code",
      "execution_count": 5,
      "metadata": {
        "colab": {
          "base_uri": "https://localhost:8080/"
        },
        "id": "SogMST0Wrxho",
        "outputId": "e1fcad26-a9a9-43e4-9310-02638289ddd6"
      },
      "outputs": [
        {
          "output_type": "stream",
          "name": "stdout",
          "text": [
            "100000\n"
          ]
        }
      ],
      "source": [
        "print(len(temp[\"X\"]))"
      ]
    },
    {
      "cell_type": "code",
      "execution_count": 6,
      "metadata": {
        "colab": {
          "base_uri": "https://localhost:8080/"
        },
        "id": "AWCVV4QDrxhp",
        "outputId": "0db72d17-3af9-4fc2-c960-029fc2907858"
      },
      "outputs": [
        {
          "output_type": "stream",
          "name": "stdout",
          "text": [
            "[1. 1. 1. ... 1. 0. 0.]\n"
          ]
        }
      ],
      "source": [
        "print((temp[\"y\"]))"
      ]
    },
    {
      "cell_type": "markdown",
      "metadata": {
        "id": "2azYA3Gorxhp"
      },
      "source": [
        "Now let's see the distribution of our data"
      ]
    },
    {
      "cell_type": "code",
      "execution_count": 7,
      "metadata": {
        "colab": {
          "base_uri": "https://localhost:8080/",
          "height": 298
        },
        "id": "NQydFeRerxhp",
        "outputId": "15d71136-1c6b-4f38-98c6-020463961195"
      },
      "outputs": [
        {
          "output_type": "execute_result",
          "data": {
            "text/plain": [
              "array([[<Axes: title={'center': '0'}>]], dtype=object)"
            ]
          },
          "metadata": {},
          "execution_count": 7
        },
        {
          "output_type": "display_data",
          "data": {
            "text/plain": [
              "<Figure size 432x288 with 1 Axes>"
            ],
            "image/png": "[encoded data removed]"
          },
          "metadata": {
            "needs_background": "light"
          }
        }
      ],
      "source": [
        "y=pd.DataFrame(temp[\"y\"])\n",
        "\n",
        "y.hist()"
      ]
    },
    {
      "cell_type": "markdown",
      "metadata": {
        "id": "cZYXNZY4rxhq"
      },
      "source": [
        "As we can see the data is unbiased having similar number of quarks and gluons"
      ]
    },
    {
      "cell_type": "code",
      "execution_count": 8,
      "metadata": {
        "id": "UI2-HrG6rxhq"
      },
      "outputs": [],
      "source": [
        "X=[]\n",
        "for i in temp[\"X\"]:\n",
        "    X.append(i[0])\n",
        "X=pd.DataFrame(X,columns=[\"pt\",\"eta\",\"azimuthal\",\"pgdid\"])\n",
        "y=pd.DataFrame(temp[\"y\"],columns=[\"Y\"])\n",
        "X[\"y\"]=y\n",
        "#X=X.sample(frac=0.5, replace=False, random_state=1)"
      ]
    },
    {
      "cell_type": "code",
      "execution_count": 9,
      "metadata": {
        "colab": {
          "base_uri": "https://localhost:8080/",
          "height": 363
        },
        "id": "FTODKppHrxhr",
        "outputId": "6ba6dacb-741b-4f43-9a4d-6eae69fad18a"
      },
      "outputs": [
        {
          "output_type": "execute_result",
          "data": {
            "text/plain": [
              "         pt       eta  azimuthal  pgdid    y\n",
              "0  0.268769  0.356903   4.741387   22.0  1.0\n",
              "1  1.212663 -0.112853   3.047088 -211.0  1.0\n",
              "2  0.216829 -0.997057   0.532569   22.0  1.0\n",
              "3  0.413806  0.956889   5.742566  211.0  1.0\n",
              "4  0.476434 -0.403307   4.126747   22.0  1.0\n",
              "5  7.702450 -0.819775   5.794888  321.0  0.0\n",
              "6  0.235739 -1.094473   5.626174  211.0  1.0\n",
              "7  0.317746  0.245092   1.284100  211.0  1.0\n",
              "8  0.879651  0.109774   3.468267  211.0  1.0\n",
              "9  0.160245 -1.455975   3.670505   22.0  1.0"
            ],
            "text/html": [
              "\n",
              "  <div id=\"df-99198d0e-f509-4d41-bc38-1acc0557000c\">\n",
              "    <div class=\"colab-df-container\">\n",
              "      <div>\n",
              "<style scoped>\n",
              "    .dataframe tbody tr th:only-of-type {\n",
              "        vertical-align: middle;\n",
              "    }\n",
              "\n",
              "    .dataframe tbody tr th {\n",
              "        vertical-align: top;\n",
              "    }\n",
              "\n",
              "    .dataframe thead th {\n",
              "        text-align: right;\n",
              "    }\n",
              "</style>\n",
              "<table border=\"1\" class=\"dataframe\">\n",
              "  <thead>\n",
              "    <tr style=\"text-align: right;\">\n",
              "      <th></th>\n",
              "      <th>pt</th>\n",
              "      <th>eta</th>\n",
              "      <th>azimuthal</th>\n",
              "      <th>pgdid</th>\n",
              "      <th>y</th>\n",
              "    </tr>\n",
              "  </thead>\n",
              "  <tbody>\n",
              "    <tr>\n",
              "      <th>0</th>\n",
              "      <td>0.268769</td>\n",
              "      <td>0.356903</td>\n",
              "      <td>4.741387</td>\n",
              "      <td>22.0</td>\n",
              "      <td>1.0</td>\n",
              "    </tr>\n",
              "    <tr>\n",
              "      <th>1</th>\n",
              "      <td>1.212663</td>\n",
              "      <td>-0.112853</td>\n",
              "      <td>3.047088</td>\n",
              "      <td>-211.0</td>\n",
              "      <td>1.0</td>\n",
              "    </tr>\n",
              "    <tr>\n",
              "      <th>2</th>\n",
              "      <td>0.216829</td>\n",
              "      <td>-0.997057</td>\n",
              "      <td>0.532569</td>\n",
              "      <td>22.0</td>\n",
              "      <td>1.0</td>\n",
              "    </tr>\n",
              "    <tr>\n",
              "      <th>3</th>\n",
              "      <td>0.413806</td>\n",
              "      <td>0.956889</td>\n",
              "      <td>5.742566</td>\n",
              "      <td>211.0</td>\n",
              "      <td>1.0</td>\n",
              "    </tr>\n",
              "    <tr>\n",
              "      <th>4</th>\n",
              "      <td>0.476434</td>\n",
              "      <td>-0.403307</td>\n",
              "      <td>4.126747</td>\n",
              "      <td>22.0</td>\n",
              "      <td>1.0</td>\n",
              "    </tr>\n",
              "    <tr>\n",
              "      <th>5</th>\n",
              "      <td>7.702450</td>\n",
              "      <td>-0.819775</td>\n",
              "      <td>5.794888</td>\n",
              "      <td>321.0</td>\n",
              "      <td>0.0</td>\n",
              "    </tr>\n",
              "    <tr>\n",
              "      <th>6</th>\n",
              "      <td>0.235739</td>\n",
              "      <td>-1.094473</td>\n",
              "      <td>5.626174</td>\n",
              "      <td>211.0</td>\n",
              "      <td>1.0</td>\n",
              "    </tr>\n",
              "    <tr>\n",
              "      <th>7</th>\n",
              "      <td>0.317746</td>\n",
              "      <td>0.245092</td>\n",
              "      <td>1.284100</td>\n",
              "      <td>211.0</td>\n",
              "      <td>1.0</td>\n",
              "    </tr>\n",
              "    <tr>\n",
              "      <th>8</th>\n",
              "      <td>0.879651</td>\n",
              "      <td>0.109774</td>\n",
              "      <td>3.468267</td>\n",
              "      <td>211.0</td>\n",
              "      <td>1.0</td>\n",
              "    </tr>\n",
              "    <tr>\n",
              "      <th>9</th>\n",
              "      <td>0.160245</td>\n",
              "      <td>-1.455975</td>\n",
              "      <td>3.670505</td>\n",
              "      <td>22.0</td>\n",
              "      <td>1.0</td>\n",
              "    </tr>\n",
              "  </tbody>\n",
              "</table>\n",
              "</div>\n",
              "      <button class=\"colab-df-convert\" onclick=\"convertToInteractive('df-99198d0e-f509-4d41-bc38-1acc0557000c')\"\n",
              "              title=\"Convert this dataframe to an interactive table.\"\n",
              "              style=\"display:none;\">\n",
              "        \n",
              "  <svg xmlns=\"http://www.w3.org/2000/svg\" height=\"24px\"viewBox=\"0 0 24 24\"\n",
              "       width=\"24px\">\n",
              "    <path d=\"M0 0h24v24H0V0z\" fill=\"none\"/>\n",
              "    <path d=\"M18.56 5.44l.94 2.06.94-2.06 2.06-.94-2.06-.94-.94-2.06-.94 2.06-2.06.94zm-11 1L8.5 8.5l.94-2.06 2.06-.94-2.06-.94L8.5 2.5l-.94 2.06-2.06.94zm10 10l.94 2.06.94-2.06 2.06-.94-2.06-.94-.94-2.06-.94 2.06-2.06.94z\"/><path d=\"M17.41 7.96l-1.37-1.37c-.4-.4-.92-.59-1.43-.59-.52 0-1.04.2-1.43.59L10.3 9.45l-7.72 7.72c-.78.78-.78 2.05 0 2.83L4 21.41c.39.39.9.59 1.41.59.51 0 1.02-.2 1.41-.59l7.78-7.78 2.81-2.81c.8-.78.8-2.07 0-2.86zM5.41 20L4 18.59l7.72-7.72 1.47 1.35L5.41 20z\"/>\n",
              "  </svg>\n",
              "      </button>\n",
              "      \n",
              "  <style>\n",
              "    .colab-df-container {\n",
              "      display:flex;\n",
              "      flex-wrap:wrap;\n",
              "      gap: 12px;\n",
              "    }\n",
              "\n",
              "    .colab-df-convert {\n",
              "      background-color: #E8F0FE;\n",
              "      border: none;\n",
              "      border-radius: 50%;\n",
              "      cursor: pointer;\n",
              "      display: none;\n",
              "      fill: #1967D2;\n",
              "      height: 32px;\n",
              "      padding: 0 0 0 0;\n",
              "      width: 32px;\n",
              "    }\n",
              "\n",
              "    .colab-df-convert:hover {\n",
              "      background-color: #E2EBFA;\n",
              "      box-shadow: 0px 1px 2px rgba(60, 64, 67, 0.3), 0px 1px 3px 1px rgba(60, 64, 67, 0.15);\n",
              "      fill: #174EA6;\n",
              "    }\n",
              "\n",
              "    [theme=dark] .colab-df-convert {\n",
              "      background-color: #3B4455;\n",
              "      fill: #D2E3FC;\n",
              "    }\n",
              "\n",
              "    [theme=dark] .colab-df-convert:hover {\n",
              "      background-color: #434B5C;\n",
              "      box-shadow: 0px 1px 3px 1px rgba(0, 0, 0, 0.15);\n",
              "      filter: drop-shadow(0px 1px 2px rgba(0, 0, 0, 0.3));\n",
              "      fill: #FFFFFF;\n",
              "    }\n",
              "  </style>\n",
              "\n",
              "      <script>\n",
              "        const buttonEl =\n",
              "          document.querySelector('#df-99198d0e-f509-4d41-bc38-1acc0557000c button.colab-df-convert');\n",
              "        buttonEl.style.display =\n",
              "          google.colab.kernel.accessAllowed ? 'block' : 'none';\n",
              "\n",
              "        async function convertToInteractive(key) {\n",
              "          const element = document.querySelector('#df-99198d0e-f509-4d41-bc38-1acc0557000c');\n",
              "          const dataTable =\n",
              "            await google.colab.kernel.invokeFunction('convertToInteractive',\n",
              "                                                     [key], {});\n",
              "          if (!dataTable) return;\n",
              "\n",
              "          const docLinkHtml = 'Like what you see? Visit the ' +\n",
              "            '<a target=\"_blank\" href=https://colab.research.google.com/notebooks/data_table.ipynb>data table notebook</a>'\n",
              "            + ' to learn more about interactive tables.';\n",
              "          element.innerHTML = '';\n",
              "          dataTable['output_type'] = 'display_data';\n",
              "          await google.colab.output.renderOutput(dataTable, element);\n",
              "          const docLink = document.createElement('div');\n",
              "          docLink.innerHTML = docLinkHtml;\n",
              "          element.appendChild(docLink);\n",
              "        }\n",
              "      </script>\n",
              "    </div>\n",
              "  </div>\n",
              "  "
            ]
          },
          "metadata": {},
          "execution_count": 9
        }
      ],
      "source": [
        "X.head(10)\n",
        "#print(len(X))"
      ]
    },
    {
      "cell_type": "code",
      "execution_count": 10,
      "metadata": {
        "id": "GbwjqU3qrxhr"
      },
      "outputs": [],
      "source": [
        "X=X[:50000]"
      ]
    },
    {
      "cell_type": "markdown",
      "metadata": {
        "id": "4DjwPceXrxhs"
      },
      "source": [
        "Taking only some part of the data as all-to-all connected graph flows out of memory for more data"
      ]
    },
    {
      "cell_type": "code",
      "execution_count": 11,
      "metadata": {
        "colab": {
          "base_uri": "https://localhost:8080/",
          "height": 282
        },
        "id": "vlESneWhrxhs",
        "outputId": "2a03d4fb-6b35-4269-ec3c-a48183d77476"
      },
      "outputs": [
        {
          "output_type": "execute_result",
          "data": {
            "text/plain": [
              "<Axes: >"
            ]
          },
          "metadata": {},
          "execution_count": 11
        },
        {
          "output_type": "display_data",
          "data": {
            "text/plain": [
              "<Figure size 432x288 with 1 Axes>"
            ],
            "image/png": "[encoded data removed]"
          },
          "metadata": {
            "needs_background": "light"
          }
        }
      ],
      "source": [
        "y=X[\"y\"]\n",
        "X=X.drop([\"y\"],axis=1)\n",
        "y.hist()"
      ]
    },
    {
      "cell_type": "code",
      "execution_count": 12,
      "metadata": {
        "id": "-veWK5vurxht"
      },
      "outputs": [],
      "source": [
        "from sklearn.model_selection import train_test_split\n",
        "X_train, X_test, y_train, y_test = train_test_split(X, y, test_size=0.30, random_state=42)"
      ]
    },
    {
      "cell_type": "code",
      "execution_count": 13,
      "metadata": {
        "colab": {
          "base_uri": "https://localhost:8080/"
        },
        "id": "o56z-g5Srxht",
        "outputId": "64b384a1-7940-40b9-c473-41ab506b54ec"
      },
      "outputs": [
        {
          "output_type": "stream",
          "name": "stdout",
          "text": [
            "35000\n"
          ]
        }
      ],
      "source": [
        "print(len(X_train))"
      ]
    },
    {
      "cell_type": "markdown",
      "metadata": {
        "id": "jR7C0tVlrxhu"
      },
      "source": [
        "## DGL"
      ]
    },
    {
      "cell_type": "code",
      "execution_count": 14,
      "metadata": {
        "colab": {
          "base_uri": "https://localhost:8080/"
        },
        "id": "t4MABNvErxhu",
        "outputId": "9fdd5ad0-c829-42a9-8d0e-96dc59f14598"
      },
      "outputs": [
        {
          "output_type": "stream",
          "name": "stdout",
          "text": [
            "Looking in indexes: https://pypi.org/simple, https://us-python.pkg.dev/colab-wheels/public/simple/\n",
            "Collecting dgl\n",
            "  Downloading dgl-1.0.1-cp39-cp39-manylinux1_x86_64.whl (5.4 MB)\n",
            "\u001b[2K     \u001b[90m━━━━━━━━━━━━━━━━━━━━━━━━━━━━━━━━━━━━━━━━\u001b[0m \u001b[32m5.4/5.4 MB\u001b[0m \u001b[31m29.9 MB/s\u001b[0m eta \u001b[36m0:00:00\u001b[0m\n",
            "\u001b[?25hRequirement already satisfied: networkx>=2.1 in /usr/local/lib/python3.9/dist-packages (from dgl) (3.0)\n",
            "Requirement already satisfied: tqdm in /usr/local/lib/python3.9/dist-packages (from dgl) (4.65.0)\n",
            "Requirement already satisfied: requests>=2.19.0 in /usr/local/lib/python3.9/dist-packages (from dgl) (2.27.1)\n",
            "Requirement already satisfied: numpy>=1.14.0 in /usr/local/lib/python3.9/dist-packages (from dgl) (1.22.4)\n",
            "Requirement already satisfied: scipy>=1.1.0 in /usr/local/lib/python3.9/dist-packages (from dgl) (1.10.1)\n",
            "Requirement already satisfied: psutil>=5.8.0 in /usr/local/lib/python3.9/dist-packages (from dgl) (5.9.4)\n",
            "Requirement already satisfied: idna<4,>=2.5 in /usr/local/lib/python3.9/dist-packages (from requests>=2.19.0->dgl) (3.4)\n",
            "Requirement already satisfied: certifi>=2017.4.17 in /usr/local/lib/python3.9/dist-packages (from requests>=2.19.0->dgl) (2022.12.7)\n",
            "Requirement already satisfied: charset-normalizer~=2.0.0 in /usr/local/lib/python3.9/dist-packages (from requests>=2.19.0->dgl) (2.0.12)\n",
            "Requirement already satisfied: urllib3<1.27,>=1.21.1 in /usr/local/lib/python3.9/dist-packages (from requests>=2.19.0->dgl) (1.26.15)\n",
            "Installing collected packages: dgl\n",
            "Successfully installed dgl-1.0.1\n"
          ]
        },
        {
          "output_type": "stream",
          "name": "stderr",
          "text": [
            "DGL backend not selected or invalid.  Assuming PyTorch for now.\n"
          ]
        },
        {
          "output_type": "stream",
          "name": "stdout",
          "text": [
            "Setting the default backend to \"pytorch\". You can change it in the ~/.dgl/config.json file or export the DGLBACKEND environment variable.  Valid options are: pytorch, mxnet, tensorflow (all lowercase)\n"
          ]
        }
      ],
      "source": [
        "!pip install --upgrade dgl\n",
        "import dgl\n",
        "import torch\n",
        "import numpy as np\n",
        "import pickle\n",
        "import matplotlib.pyplot as plt\n",
        "import networkx as nx"
      ]
    },
    {
      "cell_type": "markdown",
      "metadata": {
        "id": "R3O4FGxVrxhv"
      },
      "source": [
        "Adding nodes and edges to the graph"
      ]
    },
    {
      "cell_type": "code",
      "execution_count": 15,
      "metadata": {
        "id": "Mh6cu0hzrxhv"
      },
      "outputs": [],
      "source": [
        "def build_graph(edges):\n",
        "    g = dgl.DGLGraph()\n",
        "    g.add_nodes(len(X))\n",
        "    src, dst = tuple(zip(*edges))\n",
        "    g.add_edges(src, dst)\n",
        "    # edges are directional in DGL; make them bidirectional\n",
        "    g.add_edges(dst, src)\n",
        "    return g"
      ]
    },
    {
      "cell_type": "code",
      "execution_count": 16,
      "metadata": {
        "id": "tKP4kQFKrxhw"
      },
      "outputs": [],
      "source": [
        "edge_list=[]\n",
        "from itertools import combinations  \n",
        "import random\n",
        "# for i in range(len(X_train)):\n",
        "#     for j in range(i,len(X_train)):\n",
        "#         dist=np.linalg.norm(X_train.iloc[i]-X_train.iloc[j])\n",
        "#         if(dist<5):\n",
        "#             edge_list.append((X_train.iloc[i],X_train.iloc[j]))\n",
        "edges=random.sample(range(1, len(X_train)), int(len(X_train)/30))\n",
        "edge_list=combinations(edges,2)"
      ]
    },
    {
      "cell_type": "code",
      "execution_count": 17,
      "metadata": {
        "id": "4nhRfWjdrxhw"
      },
      "outputs": [],
      "source": [
        "edge_list=list(edge_list)"
      ]
    },
    {
      "cell_type": "code",
      "execution_count": 18,
      "metadata": {
        "colab": {
          "base_uri": "https://localhost:8080/"
        },
        "id": "U947Z3qprxhx",
        "outputId": "20952c65-8b83-461a-de82-55eb1d926852"
      },
      "outputs": [
        {
          "output_type": "stream",
          "name": "stdout",
          "text": [
            "679195\n"
          ]
        }
      ],
      "source": [
        "print(len(edge_list))"
      ]
    },
    {
      "cell_type": "code",
      "execution_count": 19,
      "metadata": {
        "colab": {
          "base_uri": "https://localhost:8080/"
        },
        "id": "2_iRfPv0rxhx",
        "outputId": "483c7987-b674-4968-f003-46aa552d1ac3"
      },
      "outputs": [
        {
          "output_type": "stream",
          "name": "stderr",
          "text": [
            "/usr/local/lib/python3.9/dist-packages/dgl/heterograph.py:72: DGLWarning: Recommend creating graphs by `dgl.graph(data)` instead of `dgl.DGLGraph(data)`.\n",
            "  dgl_warning('Recommend creating graphs by `dgl.graph(data)`'\n"
          ]
        }
      ],
      "source": [
        "G = build_graph(edge_list)"
      ]
    },
    {
      "cell_type": "code",
      "execution_count": 20,
      "metadata": {
        "colab": {
          "base_uri": "https://localhost:8080/"
        },
        "id": "0ir12t_qrxhy",
        "outputId": "6e01ec50-2d59-4ba3-cdcf-aec5e5de7b89"
      },
      "outputs": [
        {
          "output_type": "stream",
          "name": "stdout",
          "text": [
            "We have 50000 nodes.\n",
            "We have 1358390 edges.\n"
          ]
        }
      ],
      "source": [
        "print('We have %d nodes.' % G.number_of_nodes())\n",
        "print('We have %d edges.' % G.number_of_edges())"
      ]
    },
    {
      "cell_type": "code",
      "execution_count": 35,
      "metadata": {
        "id": "soVVGgSgrxhz"
      },
      "outputs": [],
      "source": [
        "import torch.nn as nn\n",
        "import torch.nn.functional as F\n",
        "def gcn_message(edges):\n",
        "    return {'msg' : edges.src['h']}\n",
        "\n",
        "def gcn_reduce(nodes):\n",
        "    return {'h' : torch.sum(nodes.mailbox['msg'], dim=1)}\n",
        "    # Define the GCNLayer module\n",
        "class GCNLayer(nn.Module):\n",
        "    def __init__(self, in_feats, out_feats):\n",
        "        super(GCNLayer, self).__init__()\n",
        "        self.linear = nn.Linear(in_feats, out_feats)\n",
        "\n",
        "    def forward(self, g, inputs):\n",
        "        g.ndata['h'] = inputs\n",
        "        g.send(self,g.edges(), gcn_message, etype='default')\n",
        "        g.recv(g.nodes(), gcn_reduce)\n",
        "        h = g.ndata.pop('h')\n",
        "        return self.linear(h)\n",
        "        import dgl.function as fn\n",
        "\n"
      ]
    },
    {
      "cell_type": "code",
      "execution_count": 48,
      "metadata": {
        "id": "GWZ3BYu2rxh0"
      },
      "outputs": [],
      "source": [
        "import dgl.function as fn\n",
        "\n",
        "class GCN(nn.Module):\n",
        "    def __init__(self, in_feats, hidden_size, num_classes):\n",
        "        super(GCN, self).__init__()\n",
        "        self.linear1 = nn.Linear(in_feats, hidden_size)\n",
        "        self.linear2 = nn.Linear(hidden_size, num_classes)\n",
        "\n",
        "    def forward(self, g, inputs):\n",
        "        h = self.linear1(inputs)\n",
        "        g.ndata['h'] = h\n",
        "        g.update_all(fn.copy_u('h', 'm'), fn.sum('m', 'h'))\n",
        "        h = g.ndata['h']\n",
        "        h = self.linear2(h)\n",
        "        return h\n",
        "\n",
        "net = GCN(4, 10, 2)"
      ]
    },
    {
      "cell_type": "code",
      "execution_count": 49,
      "metadata": {
        "id": "GsSOfeonrxh0"
      },
      "outputs": [],
      "source": [
        "inputs = torch.tensor(X.values)#torch.eye(node_count)\n",
        "labeled_nodes = torch.tensor(y_train[::3].index)\n",
        "labels = torch.tensor(y_train[::3].values)  # their labels are different"
      ]
    },
    {
      "cell_type": "code",
      "execution_count": 50,
      "metadata": {
        "colab": {
          "base_uri": "https://localhost:8080/"
        },
        "id": "CfLpZ6cMrxh1",
        "outputId": "40601238-832a-4f85-e90e-d8dd87715ad9"
      },
      "outputs": [
        {
          "output_type": "stream",
          "name": "stdout",
          "text": [
            "49997 11667\n"
          ]
        }
      ],
      "source": [
        "print(max(y_train[::3].keys()),len(labels))"
      ]
    },
    {
      "cell_type": "code",
      "source": [
        "!pip install send"
      ],
      "metadata": {
        "colab": {
          "base_uri": "https://localhost:8080/"
        },
        "id": "Z2CmSwhrsxX0",
        "outputId": "95774df0-28f7-48e3-ab5e-882c0cc5a68e"
      },
      "execution_count": 51,
      "outputs": [
        {
          "output_type": "stream",
          "name": "stdout",
          "text": [
            "Looking in indexes: https://pypi.org/simple, https://us-python.pkg.dev/colab-wheels/public/simple/\n",
            "Requirement already satisfied: send in /usr/local/lib/python3.9/dist-packages (0.2.0)\n"
          ]
        }
      ]
    },
    {
      "cell_type": "code",
      "execution_count": 52,
      "metadata": {
        "colab": {
          "base_uri": "https://localhost:8080/"
        },
        "id": "1zi7iC--rxh2",
        "outputId": "91430210-007e-4947-83c5-d8395cf00146"
      },
      "outputs": [
        {
          "output_type": "stream",
          "name": "stdout",
          "text": [
            "50000 11667\n",
            "Epoch 0 | Loss: 58.6864\n",
            "50000 11667\n",
            "Epoch 1 | Loss: 131.6757\n",
            "50000 11667\n",
            "Epoch 2 | Loss: 83.0804\n",
            "50000 11667\n",
            "Epoch 3 | Loss: 4.8017\n",
            "50000 11667\n",
            "Epoch 4 | Loss: 17.6266\n",
            "50000 11667\n",
            "Epoch 5 | Loss: 4.5555\n",
            "50000 11667\n",
            "Epoch 6 | Loss: 22.4313\n",
            "50000 11667\n",
            "Epoch 7 | Loss: 24.5332\n",
            "50000 11667\n",
            "Epoch 8 | Loss: 13.4428\n",
            "50000 11667\n",
            "Epoch 9 | Loss: 4.7406\n"
          ]
        }
      ],
      "source": [
        "optimizer = torch.optim.Adam(net.parameters(), lr=0.1)\n",
        "all_preds = []\n",
        "epochs = 10\n",
        "losses=[]\n",
        "for epoch in range(epochs):\n",
        "    preds = net(G, inputs.float())\n",
        "    all_preds.append(preds)\n",
        "    # we only compute loss for labeled nodes\n",
        "    print(len(preds),len(labels))\n",
        "    loss = F.cross_entropy(preds[labeled_nodes], labels.long())\n",
        "    losses.append(loss)\n",
        "    optimizer.zero_grad() # PyTorch accumulates gradients by default\n",
        "    loss.backward() \n",
        "    optimizer.step()\n",
        "\n",
        "    print('Epoch %d | Loss: %.4f' % (epoch, loss.item()))"
      ]
    },
    {
      "cell_type": "code",
      "execution_count": 57,
      "metadata": {
        "colab": {
          "base_uri": "https://localhost:8080/",
          "height": 265
        },
        "id": "ypbfaYX_rxh3",
        "outputId": "5ac2541a-9eb8-4cc2-caac-3c264ef87648"
      },
      "outputs": [
        {
          "output_type": "display_data",
          "data": {
            "text/plain": [
              "<Figure size 432x288 with 1 Axes>"
            ],
            "image/png": "[encoded data removed]"
          },
          "metadata": {
            "needs_background": "light"
          }
        }
      ],
      "source": [
        "import matplotlib.pyplot as plt\n",
        "import torch\n",
        "\n",
        "losses = torch.tensor([0.5, 0.4, 0.3], requires_grad=True)\n",
        "\n",
        "plt.plot(range(len(losses)), losses.detach().numpy())\n",
        "plt.show()\n",
        "\n"
      ]
    },
    {
      "cell_type": "code",
      "execution_count": 58,
      "metadata": {
        "id": "lZVjKq9Irxh3",
        "outputId": "f765d2f6-f9bb-48ae-b0ae-72223f3c1b58",
        "colab": {
          "base_uri": "https://localhost:8080/"
        }
      },
      "outputs": [
        {
          "output_type": "stream",
          "name": "stdout",
          "text": [
            "[1 1 1 ... 1 1 1]\n",
            "['p' 'p' 'p' ... 'p' 'p' 'p']\n"
          ]
        }
      ],
      "source": [
        "last_epoch = all_preds[epochs-1].detach().numpy()\n",
        "predicted_class = np.argmax(last_epoch, axis=-1)\n",
        "color = np.where(predicted_class==0, 'g', 'p')\n",
        "\n",
        "print(predicted_class)\n",
        "print(color)"
      ]
    },
    {
      "cell_type": "code",
      "execution_count": 59,
      "metadata": {
        "id": "eE73v4rsrxh4",
        "outputId": "8ab6b541-c81e-438f-e2e5-67be78048c1a",
        "colab": {
          "base_uri": "https://localhost:8080/"
        }
      },
      "outputs": [
        {
          "output_type": "stream",
          "name": "stdout",
          "text": [
            "50000 3\n"
          ]
        }
      ],
      "source": [
        "print(len(predicted_class),len(y))"
      ]
    },
    {
      "cell_type": "code",
      "execution_count": 62,
      "metadata": {
        "id": "_rp9EH65rxh4",
        "outputId": "03f24c48-5cb5-4f15-e5c4-f538393c6fd8",
        "colab": {
          "base_uri": "https://localhost:8080/"
        }
      },
      "outputs": [
        {
          "output_type": "stream",
          "name": "stdout",
          "text": [
            "Error: predicted_class and y have different lengths\n"
          ]
        }
      ],
      "source": [
        "from sklearn.metrics import accuracy_score\n",
        "if len(predicted_class) != len(y):\n",
        "    print(\"Error: predicted_class and y have different lengths\")\n",
        "else:\n",
        "    # Calculate the accuracy score\n",
        "    acc = accuracy_score(predicted_class, y)\n",
        "\n",
        "    print(acc)  # Prints 1.0 (100% accuracy)\n"
      ]
    },
    {
      "cell_type": "code",
      "execution_count": null,
      "metadata": {
        "id": "SkgetvLjrxh6"
      },
      "outputs": [],
      "source": []
    }
  ],
  "metadata": {
    "kernelspec": {
      "display_name": "Python 3",
      "language": "python",
      "name": "python3"
    },
    "language_info": {
      "codemirror_mode": {
        "name": "ipython",
        "version": 3
      },
      "file_extension": ".py",
      "mimetype": "text/x-python",
      "name": "python",
      "nbconvert_exporter": "python",
      "pygments_lexer": "ipython3",
      "version": "3.7.2"
    },
    "colab": {
      "provenance": [],
      "include_colab_link": true
    }
  },
  "nbformat": 4,
  "nbformat_minor": 0
}