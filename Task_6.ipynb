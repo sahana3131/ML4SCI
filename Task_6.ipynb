{
  "nbformat": 4,
  "nbformat_minor": 0,
  "metadata": {
    "colab": {
      "provenance": [],
      "authorship_tag": "ABX9TyPDbRraOcVPQeMn6t8V5y4e",
      "include_colab_link": true
    },
    "kernelspec": {
      "name": "python3",
      "display_name": "Python 3"
    },
    "language_info": {
      "name": "python"
    }
  },
  "cells": [
    {
      "cell_type": "markdown",
      "metadata": {
        "id": "view-in-github",
        "colab_type": "text"
      },
      "source": [
        "<a href=\"https://colab.research.google.com/github/sahana3131/ML4SCI-QMLHEP03/blob/main/Task_6.ipynb\" target=\"_parent\"><img src=\"https://colab.research.google.com/assets/colab-badge.svg\" alt=\"Open In Colab\"/></a>"
      ]
    },
    {
      "cell_type": "markdown",
      "source": [
        "#Installing pennylane"
      ],
      "metadata": {
        "id": "Ge5hcb-K5_S9"
      }
    },
    {
      "cell_type": "code",
      "source": [
        "!pip install pennylane --upgrade"
      ],
      "metadata": {
        "colab": {
          "base_uri": "https://localhost:8080/"
        },
        "id": "o5apdIbCdVaa",
        "outputId": "f9e07fa8-fd41-4d77-92e8-eef12d20e806"
      },
      "execution_count": null,
      "outputs": [
        {
          "output_type": "stream",
          "name": "stdout",
          "text": [
            "Looking in indexes: https://pypi.org/simple, https://us-python.pkg.dev/colab-wheels/public/simple/\n",
            "Requirement already satisfied: pennylane in /usr/local/lib/python3.9/dist-packages (0.29.1)\n",
            "Requirement already satisfied: numpy<1.24 in /usr/local/lib/python3.9/dist-packages (from pennylane) (1.22.4)\n",
            "Requirement already satisfied: autograd in /usr/local/lib/python3.9/dist-packages (from pennylane) (1.5)\n",
            "Requirement already satisfied: pennylane-lightning>=0.28 in /usr/local/lib/python3.9/dist-packages (from pennylane) (0.29.0)\n",
            "Requirement already satisfied: requests in /usr/local/lib/python3.9/dist-packages (from pennylane) (2.27.1)\n",
            "Requirement already satisfied: networkx in /usr/local/lib/python3.9/dist-packages (from pennylane) (3.0)\n",
            "Requirement already satisfied: retworkx in /usr/local/lib/python3.9/dist-packages (from pennylane) (0.12.1)\n",
            "Requirement already satisfied: toml in /usr/local/lib/python3.9/dist-packages (from pennylane) (0.10.2)\n",
            "Requirement already satisfied: semantic-version>=2.7 in /usr/local/lib/python3.9/dist-packages (from pennylane) (2.10.0)\n",
            "Requirement already satisfied: cachetools in /usr/local/lib/python3.9/dist-packages (from pennylane) (5.3.0)\n",
            "Requirement already satisfied: scipy in /usr/local/lib/python3.9/dist-packages (from pennylane) (1.10.1)\n",
            "Requirement already satisfied: autoray>=0.3.1 in /usr/local/lib/python3.9/dist-packages (from pennylane) (0.6.3)\n",
            "Requirement already satisfied: appdirs in /usr/local/lib/python3.9/dist-packages (from pennylane) (1.4.4)\n",
            "Requirement already satisfied: future>=0.15.2 in /usr/local/lib/python3.9/dist-packages (from autograd->pennylane) (0.18.3)\n",
            "Requirement already satisfied: certifi>=2017.4.17 in /usr/local/lib/python3.9/dist-packages (from requests->pennylane) (2022.12.7)\n",
            "Requirement already satisfied: urllib3<1.27,>=1.21.1 in /usr/local/lib/python3.9/dist-packages (from requests->pennylane) (1.26.15)\n",
            "Requirement already satisfied: idna<4,>=2.5 in /usr/local/lib/python3.9/dist-packages (from requests->pennylane) (3.4)\n",
            "Requirement already satisfied: charset-normalizer~=2.0.0 in /usr/local/lib/python3.9/dist-packages (from requests->pennylane) (2.0.12)\n",
            "Requirement already satisfied: rustworkx==0.12.1 in /usr/local/lib/python3.9/dist-packages (from retworkx->pennylane) (0.12.1)\n"
          ]
        }
      ]
    },
    {
      "cell_type": "code",
      "source": [
        "import tensorflow as tf\n",
        "import pennylane as qml\n",
        "import numpy as np\n",
        "from tensorflow.keras.datasets import mnist"
      ],
      "metadata": {
        "id": "_cT4h7GO4K-Y"
      },
      "execution_count": null,
      "outputs": []
    },
    {
      "cell_type": "code",
      "source": [
        "n_epochs = 30 \n",
        "n_layers = 1  \n",
        "n_train = 50  \n",
        "n_test = 30    \n",
        "\n",
        "SAVE_PATH = \"quanvolution/\"\n",
        "PREPROCESS = True           \n",
        "np.random.seed(0)           \n",
        "tf.random.set_seed(0)  "
      ],
      "metadata": {
        "id": "bxOprPh0eug6"
      },
      "execution_count": null,
      "outputs": []
    },
    {
      "cell_type": "markdown",
      "source": [
        "# Loading the **mnist** dataset"
      ],
      "metadata": {
        "id": "-MIrinOY5x3p"
      }
    },
    {
      "cell_type": "code",
      "source": [
        "(x_train,y_train),(x_test,y_test) = mnist.load_data()\n",
        "\n",
        "# Normalize pixel values within 0 and 1\n",
        "x_train = x_train / 255\n",
        "x_test = x_test / 255\n",
        "\n"
      ],
      "metadata": {
        "id": "ZX-bctZu5Lir"
      },
      "execution_count": null,
      "outputs": []
    },
    {
      "cell_type": "markdown",
      "source": [
        "#Defining the quantum circuit\n"
      ],
      "metadata": {
        "id": "5tU6bKy86EpV"
      }
    },
    {
      "cell_type": "code",
      "source": [
        "def q_circuit(params, x):\n",
        "    qml.templates.AngleEmbedding(x, wires=range(4))\n",
        "    qml.templates.StronglyEntanglingLayers(params, wires=range(4))\n",
        "    return [qml.expval(qml.PauliZ(i)) for i in range(4)]"
      ],
      "metadata": {
        "id": "ZU2Coltg5sqn"
      },
      "execution_count": null,
      "outputs": []
    },
    {
      "cell_type": "code",
      "source": [
        "def swap_test_circuit(params, x1, x2):\n",
        "    qml.Hadamard(wires=0)\n",
        "    qml.CSWAP(wires=[0, 1, 2])\n",
        "    qml.RY(params[0], wires=0)\n",
        "    qml.RY(params[1], wires=1)\n",
        "    qml.RY(params[2], wires=2)\n",
        "    qml.CSWAP(wires=[0, 1, 2])\n",
        "    qml.Hadamard(wires=0)\n",
        "    return qml.expval(qml.PauliZ(0))"
      ],
      "metadata": {
        "id": "nZLYLnj97HgA"
      },
      "execution_count": null,
      "outputs": []
    },
    {
      "cell_type": "code",
      "source": [
        "def contrastive_loss(y_true, y_pred, margin=1):\n",
        "    loss = y_true * tf.square(tf.maximum(0., margin - y_pred)) + (1 - y_true) * tf.square(y_pred)\n",
        "    return tf.reduce_mean(loss)"
      ],
      "metadata": {
        "id": "bQUjzYdW7M2q"
      },
      "execution_count": null,
      "outputs": []
    },
    {
      "cell_type": "code",
      "source": [
        "dev = qml.device(\"default.qubit\", wires=4)"
      ],
      "metadata": {
        "id": "du0GOjDx7RSe"
      },
      "execution_count": null,
      "outputs": []
    },
    {
      "cell_type": "code",
      "source": [
        "@qml.qnode(dev, interface=\"tf\")\n",
        "def quantum_model(inputs, params):\n",
        "    return q_circuit(params, inputs)\n",
        "\n",
        "@qml.qnode(dev, interface=\"tf\")\n",
        "def swap_test(inputs_1, inputs_2, params):\n",
        "    return swap_test_circuit(params, inputs_1, inputs_2)"
      ],
      "metadata": {
        "id": "bajzGClM7UZt"
      },
      "execution_count": null,
      "outputs": []
    },
    {
      "cell_type": "code",
      "source": [
        "import numpy as np\n",
        "\n",
        "params = np.random.randn(10)  "
      ],
      "metadata": {
        "id": "_yTKil81flil"
      },
      "execution_count": null,
      "outputs": []
    },
    {
      "cell_type": "code",
      "source": [
        "def MyModel():\n",
        "    model = tf.keras.models.Sequential([\n",
        "    tf.keras.layers.Input(shape=(28, 28)),\n",
        "    tf.keras.layers.Flatten(),\n",
        "    tf.keras.layers.Dense(128, activation='relu'),\n",
        "    tf.keras.layers.Dense(10, activation='softmax')\n",
        "])\n",
        "    model.compile(\n",
        "        optimizer='adam',\n",
        "        loss=\"sparse_categorical_crossentropy\",\n",
        "        metrics=[\"accuracy\"],\n",
        "    )\n",
        "    return model"
      ],
      "metadata": {
        "id": "5JUbG7rTfI8K"
      },
      "execution_count": null,
      "outputs": []
    },
    {
      "cell_type": "code",
      "source": [
        "opt = tf.keras.optimizers.Adam(learning_rate=0.01)\n",
        "model.compile(optimizer=opt, loss=lambda y_true, y_pred: contrastive_loss(y_true, y_pred, margin=1))"
      ],
      "metadata": {
        "id": "tqa-5YY0eSnW"
      },
      "execution_count": null,
      "outputs": []
    },
    {
      "cell_type": "code",
      "source": [
        "params = np.random.normal(loc=0, scale=0.1, size=(n_layers, n_wires))\n"
      ],
      "metadata": {
        "id": "XRmTL-HhkqdB"
      },
      "execution_count": null,
      "outputs": []
    },
    {
      "cell_type": "code",
      "source": [
        "q_model = MyModel()\n",
        "\n",
        "q_history = q_model.fit(\n",
        "    x_train,\n",
        "    y_train,\n",
        "    validation_data=(x_test, y_test),\n",
        "    batch_size=4,\n",
        "    epochs=10,\n",
        "    verbose=2,\n",
        ")"
      ],
      "metadata": {
        "colab": {
          "base_uri": "https://localhost:8080/"
        },
        "id": "xnXbYZFonxW-",
        "outputId": "c74a6fb8-1d39-4053-a452-7ecef2b5082e"
      },
      "execution_count": null,
      "outputs": [
        {
          "output_type": "stream",
          "name": "stdout",
          "text": [
            "Epoch 1/10\n",
            "15000/15000 - 36s - loss: 0.1991 - accuracy: 0.9402 - val_loss: 0.1119 - val_accuracy: 0.9671 - 36s/epoch - 2ms/step\n",
            "Epoch 2/10\n",
            "15000/15000 - 34s - loss: 0.0942 - accuracy: 0.9715 - val_loss: 0.0911 - val_accuracy: 0.9721 - 34s/epoch - 2ms/step\n",
            "Epoch 3/10\n",
            "15000/15000 - 36s - loss: 0.0693 - accuracy: 0.9784 - val_loss: 0.0916 - val_accuracy: 0.9742 - 36s/epoch - 2ms/step\n",
            "Epoch 4/10\n",
            "15000/15000 - 34s - loss: 0.0563 - accuracy: 0.9830 - val_loss: 0.0794 - val_accuracy: 0.9776 - 34s/epoch - 2ms/step\n",
            "Epoch 5/10\n",
            "15000/15000 - 34s - loss: 0.0478 - accuracy: 0.9853 - val_loss: 0.0953 - val_accuracy: 0.9767 - 34s/epoch - 2ms/step\n",
            "Epoch 6/10\n",
            "15000/15000 - 35s - loss: 0.0398 - accuracy: 0.9872 - val_loss: 0.1008 - val_accuracy: 0.9770 - 35s/epoch - 2ms/step\n",
            "Epoch 7/10\n",
            "15000/15000 - 37s - loss: 0.0354 - accuracy: 0.9888 - val_loss: 0.1045 - val_accuracy: 0.9784 - 37s/epoch - 2ms/step\n",
            "Epoch 8/10\n",
            "15000/15000 - 37s - loss: 0.0294 - accuracy: 0.9907 - val_loss: 0.1188 - val_accuracy: 0.9779 - 37s/epoch - 2ms/step\n",
            "Epoch 9/10\n",
            "15000/15000 - 35s - loss: 0.0261 - accuracy: 0.9919 - val_loss: 0.1314 - val_accuracy: 0.9760 - 35s/epoch - 2ms/step\n",
            "Epoch 10/10\n",
            "15000/15000 - 35s - loss: 0.0234 - accuracy: 0.9926 - val_loss: 0.1367 - val_accuracy: 0.9762 - 35s/epoch - 2ms/step\n"
          ]
        }
      ]
    },
    {
      "cell_type": "code",
      "source": [
        "import matplotlib.pyplot as plt\n",
        "\n",
        "plt.style.use(\"seaborn\")\n",
        "fig, (ax1, ax2) = plt.subplots(2, 1, figsize=(6, 9))\n",
        "\n",
        "ax1.plot(q_history.history[\"val_accuracy\"], \"-ob\", label=\"With quantum layer\")\n",
        "ax1.set_ylabel(\"Accuracy\")\n",
        "ax1.set_ylim([0, 1])\n",
        "ax1.set_xlabel(\"Epoch\")\n",
        "ax1.legend()\n",
        "ax2.plot(q_history.history[\"val_loss\"], \"-ob\", label=\"With quantum layer\")\n",
        "ax2.set_ylabel(\"Loss\")\n",
        "ax2.set_ylim(top=2.5)\n",
        "ax2.set_xlabel(\"Epoch\")\n",
        "ax2.legend()\n",
        "plt.tight_layout()\n",
        "plt.show()"
      ],
      "metadata": {
        "colab": {
          "base_uri": "https://localhost:8080/",
          "height": 712
        },
        "id": "VUu46jLRks7f",
        "outputId": "8e826fbc-ed52-4651-f2b3-1c9e8b8d8f8b"
      },
      "execution_count": null,
      "outputs": [
        {
          "output_type": "stream",
          "name": "stderr",
          "text": [
            "<ipython-input-83-9a19926524b0>:3: MatplotlibDeprecationWarning: The seaborn styles shipped by Matplotlib are deprecated since 3.6, as they no longer correspond to the styles shipped by seaborn. However, they will remain available as 'seaborn-v0_8-<style>'. Alternatively, directly use the seaborn API instead.\n",
            "  plt.style.use(\"seaborn\")\n"
          ]
        },
        {
          "output_type": "display_data",
          "data": {
            "text/plain": [
              "<Figure size 432x648 with 2 Axes>"
            ],
            "image/png": "[encoded data removed]"
          },
          "metadata": {}
        }
      ]
    },
    {
      "cell_type": "code",
      "source": [],
      "metadata": {
        "id": "_c53bdIPqopO"
      },
      "execution_count": null,
      "outputs": []
    }
  ]
}